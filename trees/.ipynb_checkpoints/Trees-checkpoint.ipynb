{
 "cells": [
  {
   "cell_type": "markdown",
   "metadata": {
    "slideshow": {
     "slide_type": "slide"
    }
   },
   "source": [
    "<center> Speaker's Introduction</center>\n",
    "<center><img src=\"images/intro.png\" alt=\"Tree\" style=\"width: 600px;\"/></center>"
   ]
  },
  {
   "cell_type": "markdown",
   "metadata": {
    "slideshow": {
     "slide_type": "slide"
    }
   },
   "source": [
    "<center><h1> Agenda</h1></center>\n",
    "<br><center><h2> Trees Based Models </h2></center></br>\n",
    "\n",
    "###    - Introduction to Machine learning\n",
    "###    -  Decison Trees\n",
    "###    -  Random Forest"
   ]
  },
  {
   "cell_type": "markdown",
   "metadata": {
    "slideshow": {
     "slide_type": "slide"
    }
   },
   "source": [
    "# <center> Poll </center>\n",
    "\n",
    "<center><h3>Data Science Vs Machine Learning</h3></center>"
   ]
  },
  {
   "cell_type": "markdown",
   "metadata": {
    "slideshow": {
     "slide_type": "subslide"
    }
   },
   "source": [
    "<center><h2>Jargon</h2></center>\n",
    "<h3>Machine Learning:</h3>\n",
    "<br>- Learning hidden patterns from the data(examples) with the help of Algorithms </br>\n",
    "<h3>Data Science:</h3>\n",
    "<br>- Field of study that combines domain expertise, programming skills, and knowledge of math and statistics to extract meaningful insights from data and create viable solutions for business problems</br>\n",
    "<h3>Parameters:</h3>\n",
    "<br>- A variable of a model that the ML system trains on its own based on the data fed to the algorithm. For example, weights are parameters</br>\n",
    "<h3>Hyper-parameters:</h3>\n",
    "<br>- The \"knobs\" that you tweak during successive runs of training a model and `cannot` be learnt from the data. For example depth of a tree"
   ]
  },
  {
   "cell_type": "markdown",
   "metadata": {
    "slideshow": {
     "slide_type": "subslide"
    }
   },
   "source": [
    "<center><h1> What makes a Good ML problem?</h1> </center> \n",
    "<br><h5> * Problems that cannot be solved Explicitly </h5></br>\n",
    "        - Eg: Recomending a movie based on historical viewership\n",
    "<br><h5> * Solutions with Limited Reliability, Predictability, interpretiability is Okay </h5></br>\n",
    "        - Eg: Forecasting the ETA on maps\n",
    "<br><h5> * Availability of plenty good data </h5></br>\n",
    "        - Eg: Image recognition "
   ]
  },
  {
   "cell_type": "markdown",
   "metadata": {
    "slideshow": {
     "slide_type": "subslide"
    }
   },
   "source": [
    "<center><h1>Types of Machine learning</h1></center>\n",
    "\n",
    "\n",
    "\n",
    "\n",
    "- **Supervised:** Training data consists of Input varaibles ***X*** along with their corresponding output varaibles ***y***\n",
    "\n",
    "    - Eg: Linear Regression, Logistic Regression etc..\n",
    "    \n",
    "    \n",
    "\n",
    "- **Unsupervised:** Traing data consists of only Input variables\n",
    "    \n",
    "    - Eg: K-Means Clustering, Anamoly Detection etc..\n",
    "    \n",
    "    \n",
    "    \n",
    "- **Semi-Supervised:** is a class of supervised learning tasks and techniques that also make use of unlabeled data for training"
   ]
  },
  {
   "cell_type": "markdown",
   "metadata": {
    "slideshow": {
     "slide_type": "slide"
    }
   },
   "source": [
    "## <center> Decision Trees </center>\n",
    "***\n",
    "\n",
    "<center><img src=\"images/tree_sample.png\" alt=\"Tree\" style=\"width: 600px;\"/></center>"
   ]
  },
  {
   "cell_type": "markdown",
   "metadata": {
    "slideshow": {
     "slide_type": "subslide"
    }
   },
   "source": [
    "##  Trees\n",
    "***\n",
    "There are two types of Tree based models depending on the type of dependent variable:\n",
    "- **Decision Tree**: Target variable is categorical\n",
    "    - Eg: Predicting whether a transaction is fradulent or not.\n",
    "    \n",
    "\n",
    "- **Regression Tree**: Target variable is Numerical/Continous\n",
    "    - Eg: Assignment of limit for a credit card"
   ]
  },
  {
   "cell_type": "markdown",
   "metadata": {
    "slideshow": {
     "slide_type": "subslide"
    }
   },
   "source": [
    "## <center> Decision Tree Terminology </center>\n",
    "* **Root Node**: Top most node of the tree.\n",
    "- **Splitting**: It is a process of dividing a node into two or more sub-nodes.\n",
    "- **Internal Node**: When a sub-node splits into further sub-nodes, then it is called decision node.\n",
    "- **Leaf Node**: Nodes do not split is called Leaf or Terminal node.\n",
    "- **Pruning**: The process of removal of nodes(currently unavailable in sklearn).  \n",
    "\n",
    "<center><img src=\"images/terminology.png\" alt=\"Tree\" style=\"height: 300px;width: 600px;\"/></center>"
   ]
  },
  {
   "cell_type": "markdown",
   "metadata": {
    "slideshow": {
     "slide_type": "slide"
    }
   },
   "source": [
    "**Building Intution about how does a Tree makes a split**\n",
    "- Decision tree(*ID3*) makes the split using a variable that minimises the randomness (*Entropy*) or Maximizing Information Gain of the data before and after split.\n",
    "\n",
    "<center><h5>*Formaule*</center></h5>\n",
    "\n",
    "\n",
    "\n",
    "\n",
    "<br><center> $\\ Entropy\\; H(X) = -\\sum p(X)\\log p(X)\\\\ Information\\ Gain\\; I(X,Y)= H(X)-H(X|Y)$ </center></br>"
   ]
  },
  {
   "cell_type": "markdown",
   "metadata": {
    "slideshow": {
     "slide_type": "subslide"
    }
   },
   "source": [
    "**Toy Data set**\n",
    "- Given the weather condition need to find out whether play is possible\n",
    "<center><img src=\"images/ent1.png\" alt=\"Tree\" style=\"width: 600px;\"/></center>"
   ]
  },
  {
   "cell_type": "markdown",
   "metadata": {
    "slideshow": {
     "slide_type": "subslide"
    }
   },
   "source": [
    "<center><img src=\"images/ent2.png\" alt=\"Tree\" style=\"width: 600px;\"/></center>\n",
    "<center><h5>Entropy of the whole dataset</h5></center>\n",
    "<center><img src=\"images/ent3.png\" alt=\"Tree\" style=\"width: 600px;\"/></center>"
   ]
  },
  {
   "cell_type": "markdown",
   "metadata": {
    "slideshow": {
     "slide_type": "subslide"
    }
   },
   "source": [
    "<center><img src=\"images/ent4.png\" alt=\"Tree\" style=\"width: 600px;\"/></center>\n",
    "<center><img src=\"images/ent5.png\" alt=\"Tree\" style=\"width: 600px;\"/></center>\n",
    "<center><img src=\"images/ent6.png\" alt=\"Tree\" style=\"width: 600px;\"/></center>"
   ]
  },
  {
   "cell_type": "markdown",
   "metadata": {
    "slideshow": {
     "slide_type": "slide"
    }
   },
   "source": [
    "<center><h1 style=\"color:Red;\">Questions?</h1></center> \n"
   ]
  },
  {
   "cell_type": "markdown",
   "metadata": {
    "slideshow": {
     "slide_type": "subslide"
    }
   },
   "source": [
    "<center><img src=\"images/impure1.png\" alt=\"Tree\" style=\"width: 600px;\"/></center>"
   ]
  },
  {
   "cell_type": "markdown",
   "metadata": {
    "slideshow": {
     "slide_type": "slide"
    }
   },
   "source": [
    "<center><h1 style=\"color:red;\">Fraud Analytics</h1></center> \n",
    "- A multidisciplinary field that combines numerous quantitative sciences in order to better understand and stop fraud\n",
    "<center><img src=\"images/stats.png\" alt=\"Tree\" style=\"width: 600px;\"/></center>"
   ]
  },
  {
   "cell_type": "markdown",
   "metadata": {
    "slideshow": {
     "slide_type": "subslide"
    }
   },
   "source": [
    "### Data\n",
    "\n",
    "The datasets contains transactions made by credit cards in September 2013 by european cardholders. This dataset presents transactions that occurred in two days, where we have 492 frauds out of 284,807 transactions. The dataset is highly unbalanced, the positive class (frauds) account for 0.172% of all transactions.\n",
    "\n",
    "It contains only numerical input variables which are the result of a PCA transformation. Unfortunately, due to confidentiality issues, the original features and more background information about the data can't be revealed. Features V1, V2, ... V28 are the principal components obtained with PCA, the only features which have not been transformed with PCA are 'Time' and 'Amount'. Feature 'Time' contains the seconds elapsed between each transaction and the first transaction in the dataset. The feature 'Amount' is the transaction Amount, this feature can be used for example-dependant cost-senstive learning. Feature 'Class' is the response variable and it takes value 1 in case of fraud and 0 otherwise.\n"
   ]
  },
  {
   "cell_type": "code",
   "execution_count": 1,
   "metadata": {
    "slideshow": {
     "slide_type": "subslide"
    }
   },
   "outputs": [
    {
     "data": {
      "text/html": [
       "<div>\n",
       "<style scoped>\n",
       "    .dataframe tbody tr th:only-of-type {\n",
       "        vertical-align: middle;\n",
       "    }\n",
       "\n",
       "    .dataframe tbody tr th {\n",
       "        vertical-align: top;\n",
       "    }\n",
       "\n",
       "    .dataframe thead th {\n",
       "        text-align: right;\n",
       "    }\n",
       "</style>\n",
       "<table border=\"1\" class=\"dataframe\">\n",
       "  <thead>\n",
       "    <tr style=\"text-align: right;\">\n",
       "      <th></th>\n",
       "      <th>Time</th>\n",
       "      <th>V1</th>\n",
       "      <th>V2</th>\n",
       "      <th>V3</th>\n",
       "      <th>V4</th>\n",
       "      <th>V5</th>\n",
       "      <th>V6</th>\n",
       "      <th>V7</th>\n",
       "      <th>V8</th>\n",
       "      <th>V9</th>\n",
       "      <th>...</th>\n",
       "      <th>V21</th>\n",
       "      <th>V22</th>\n",
       "      <th>V23</th>\n",
       "      <th>V24</th>\n",
       "      <th>V25</th>\n",
       "      <th>V26</th>\n",
       "      <th>V27</th>\n",
       "      <th>V28</th>\n",
       "      <th>Amount</th>\n",
       "      <th>Class</th>\n",
       "    </tr>\n",
       "  </thead>\n",
       "  <tbody>\n",
       "    <tr>\n",
       "      <th>0</th>\n",
       "      <td>0.0</td>\n",
       "      <td>-1.359807</td>\n",
       "      <td>-0.072781</td>\n",
       "      <td>2.536347</td>\n",
       "      <td>1.378155</td>\n",
       "      <td>-0.338321</td>\n",
       "      <td>0.462388</td>\n",
       "      <td>0.239599</td>\n",
       "      <td>0.098698</td>\n",
       "      <td>0.363787</td>\n",
       "      <td>...</td>\n",
       "      <td>-0.018307</td>\n",
       "      <td>0.277838</td>\n",
       "      <td>-0.110474</td>\n",
       "      <td>0.066928</td>\n",
       "      <td>0.128539</td>\n",
       "      <td>-0.189115</td>\n",
       "      <td>0.133558</td>\n",
       "      <td>-0.021053</td>\n",
       "      <td>149.62</td>\n",
       "      <td>0</td>\n",
       "    </tr>\n",
       "    <tr>\n",
       "      <th>1</th>\n",
       "      <td>0.0</td>\n",
       "      <td>1.191857</td>\n",
       "      <td>0.266151</td>\n",
       "      <td>0.166480</td>\n",
       "      <td>0.448154</td>\n",
       "      <td>0.060018</td>\n",
       "      <td>-0.082361</td>\n",
       "      <td>-0.078803</td>\n",
       "      <td>0.085102</td>\n",
       "      <td>-0.255425</td>\n",
       "      <td>...</td>\n",
       "      <td>-0.225775</td>\n",
       "      <td>-0.638672</td>\n",
       "      <td>0.101288</td>\n",
       "      <td>-0.339846</td>\n",
       "      <td>0.167170</td>\n",
       "      <td>0.125895</td>\n",
       "      <td>-0.008983</td>\n",
       "      <td>0.014724</td>\n",
       "      <td>2.69</td>\n",
       "      <td>0</td>\n",
       "    </tr>\n",
       "    <tr>\n",
       "      <th>2</th>\n",
       "      <td>1.0</td>\n",
       "      <td>-1.358354</td>\n",
       "      <td>-1.340163</td>\n",
       "      <td>1.773209</td>\n",
       "      <td>0.379780</td>\n",
       "      <td>-0.503198</td>\n",
       "      <td>1.800499</td>\n",
       "      <td>0.791461</td>\n",
       "      <td>0.247676</td>\n",
       "      <td>-1.514654</td>\n",
       "      <td>...</td>\n",
       "      <td>0.247998</td>\n",
       "      <td>0.771679</td>\n",
       "      <td>0.909412</td>\n",
       "      <td>-0.689281</td>\n",
       "      <td>-0.327642</td>\n",
       "      <td>-0.139097</td>\n",
       "      <td>-0.055353</td>\n",
       "      <td>-0.059752</td>\n",
       "      <td>378.66</td>\n",
       "      <td>0</td>\n",
       "    </tr>\n",
       "    <tr>\n",
       "      <th>3</th>\n",
       "      <td>1.0</td>\n",
       "      <td>-0.966272</td>\n",
       "      <td>-0.185226</td>\n",
       "      <td>1.792993</td>\n",
       "      <td>-0.863291</td>\n",
       "      <td>-0.010309</td>\n",
       "      <td>1.247203</td>\n",
       "      <td>0.237609</td>\n",
       "      <td>0.377436</td>\n",
       "      <td>-1.387024</td>\n",
       "      <td>...</td>\n",
       "      <td>-0.108300</td>\n",
       "      <td>0.005274</td>\n",
       "      <td>-0.190321</td>\n",
       "      <td>-1.175575</td>\n",
       "      <td>0.647376</td>\n",
       "      <td>-0.221929</td>\n",
       "      <td>0.062723</td>\n",
       "      <td>0.061458</td>\n",
       "      <td>123.50</td>\n",
       "      <td>0</td>\n",
       "    </tr>\n",
       "    <tr>\n",
       "      <th>4</th>\n",
       "      <td>2.0</td>\n",
       "      <td>-1.158233</td>\n",
       "      <td>0.877737</td>\n",
       "      <td>1.548718</td>\n",
       "      <td>0.403034</td>\n",
       "      <td>-0.407193</td>\n",
       "      <td>0.095921</td>\n",
       "      <td>0.592941</td>\n",
       "      <td>-0.270533</td>\n",
       "      <td>0.817739</td>\n",
       "      <td>...</td>\n",
       "      <td>-0.009431</td>\n",
       "      <td>0.798278</td>\n",
       "      <td>-0.137458</td>\n",
       "      <td>0.141267</td>\n",
       "      <td>-0.206010</td>\n",
       "      <td>0.502292</td>\n",
       "      <td>0.219422</td>\n",
       "      <td>0.215153</td>\n",
       "      <td>69.99</td>\n",
       "      <td>0</td>\n",
       "    </tr>\n",
       "  </tbody>\n",
       "</table>\n",
       "<p>5 rows × 31 columns</p>\n",
       "</div>"
      ],
      "text/plain": [
       "   Time        V1        V2        V3        V4        V5        V6        V7  \\\n",
       "0   0.0 -1.359807 -0.072781  2.536347  1.378155 -0.338321  0.462388  0.239599   \n",
       "1   0.0  1.191857  0.266151  0.166480  0.448154  0.060018 -0.082361 -0.078803   \n",
       "2   1.0 -1.358354 -1.340163  1.773209  0.379780 -0.503198  1.800499  0.791461   \n",
       "3   1.0 -0.966272 -0.185226  1.792993 -0.863291 -0.010309  1.247203  0.237609   \n",
       "4   2.0 -1.158233  0.877737  1.548718  0.403034 -0.407193  0.095921  0.592941   \n",
       "\n",
       "         V8        V9  ...       V21       V22       V23       V24       V25  \\\n",
       "0  0.098698  0.363787  ... -0.018307  0.277838 -0.110474  0.066928  0.128539   \n",
       "1  0.085102 -0.255425  ... -0.225775 -0.638672  0.101288 -0.339846  0.167170   \n",
       "2  0.247676 -1.514654  ...  0.247998  0.771679  0.909412 -0.689281 -0.327642   \n",
       "3  0.377436 -1.387024  ... -0.108300  0.005274 -0.190321 -1.175575  0.647376   \n",
       "4 -0.270533  0.817739  ... -0.009431  0.798278 -0.137458  0.141267 -0.206010   \n",
       "\n",
       "        V26       V27       V28  Amount  Class  \n",
       "0 -0.189115  0.133558 -0.021053  149.62      0  \n",
       "1  0.125895 -0.008983  0.014724    2.69      0  \n",
       "2 -0.139097 -0.055353 -0.059752  378.66      0  \n",
       "3 -0.221929  0.062723  0.061458  123.50      0  \n",
       "4  0.502292  0.219422  0.215153   69.99      0  \n",
       "\n",
       "[5 rows x 31 columns]"
      ]
     },
     "execution_count": 1,
     "metadata": {},
     "output_type": "execute_result"
    }
   ],
   "source": [
    "import pandas as pd\n",
    "# reading the data\n",
    "df = pd.read_csv(\"data/creditcard.csv\")\n",
    "df.head() # to look at the first few rows of the dataframe"
   ]
  },
  {
   "cell_type": "code",
   "execution_count": 2,
   "metadata": {
    "slideshow": {
     "slide_type": "subslide"
    }
   },
   "outputs": [
    {
     "name": "stdout",
     "output_type": "stream",
     "text": [
      "Ratio of calsses in the data set \n",
      " 0    0.998273\n",
      "1    0.001727\n",
      "Name: Class, dtype: float64 \n"
     ]
    },
    {
     "data": {
      "image/png": "[encoded data removed]",
      "text/plain": [
       "<Figure size 432x288 with 1 Axes>"
      ]
     },
     "metadata": {
      "needs_background": "light"
     },
     "output_type": "display_data"
    }
   ],
   "source": [
    "import numpy as np\n",
    "import matplotlib.pyplot as plt\n",
    "%matplotlib inline\n",
    "\n",
    "count_classes = pd.value_counts(df['Class'], sort = True).sort_index()\n",
    "count_classes.plot(kind = 'bar')\n",
    "plt.title(\"Fraud class histogram\")\n",
    "plt.xlabel(\"Class\")\n",
    "plt.ylabel(\"Frequency\")\n",
    "print(\"Ratio of calsses in the data set \\n {0} \".format(df.Class.value_counts(normalize=True)))"
   ]
  },
  {
   "cell_type": "code",
   "execution_count": 3,
   "metadata": {
    "slideshow": {
     "slide_type": "subslide"
    }
   },
   "outputs": [],
   "source": [
    "def prep_data(df):\n",
    "    \"\"\"\n",
    "    Prepare the data to train the model\n",
    "    args: df - dataframe\n",
    "    returns: X - array of columns\n",
    "    y - class array to be predicted\n",
    "    \"\"\"\n",
    "    X = df.iloc[:, 1:29]\n",
    "    X = np.array(X).astype(np.float) # features array and converting the values to float\n",
    "    y = df.iloc[:, 30]\n",
    "    y = np.array(y).astype(np.float) # target variable - class\n",
    "    return X,y\n",
    "\n",
    "def plot_data(X, y):\n",
    "    plt.scatter(X[y == 0, 0], X[y == 0, 1], label=\"Class #0\", alpha=0.5, linewidth=0.15)\n",
    "    plt.scatter(X[y == 1, 0], X[y == 1, 1], label=\"Class #1\", alpha=0.5, linewidth=0.15, c='r')\n",
    "    plt.legend()\n",
    "    return plt.show()"
   ]
  },
  {
   "cell_type": "code",
   "execution_count": 4,
   "metadata": {
    "slideshow": {
     "slide_type": "subslide"
    }
   },
   "outputs": [
    {
     "data": {
      "image/png": "[encoded data removed]",
      "text/plain": [
       "<Figure size 432x288 with 1 Axes>"
      ]
     },
     "metadata": {
      "needs_background": "light"
     },
     "output_type": "display_data"
    }
   ],
   "source": [
    "# Create X and y from the prep_data function \n",
    "X, y = prep_data(df)\n",
    "\n",
    "# Plot our data by running our plot data function on X and y\n",
    "plot_data(X, y)"
   ]
  },
  {
   "cell_type": "markdown",
   "metadata": {
    "slideshow": {
     "slide_type": "subslide"
    }
   },
   "source": [
    "## How to manage imbalanced data?\n",
    "\n",
    "- Imbalance data is one of the unwanted situations for Machine Learning which makes hard for the algorithm to learn underlying patterns.\n",
    "\n",
    "Let's learn different methods which can help us deal with imbalanced data.\n",
    "There are various resmapling techniques to handle imbalanced data:\n",
    "\n",
    "* `Random Under Sampling(RUS)`: This reduces the majority class and makes the data balanced.\n",
    "* `Random Over Sampling(ROS)`: This generated duplicates of the minority class. Inefficient because of duplicacy.\n",
    "* `Synthetic Minority Oversampling Technique(SMOTE)`: Generates fake realistic data to balance out the data.\n",
    "\n",
    "We are going to use the best possible option which is SMOTE here."
   ]
  },
  {
   "cell_type": "code",
   "execution_count": 7,
   "metadata": {
    "slideshow": {
     "slide_type": "subslide"
    }
   },
   "outputs": [
    {
     "data": {
      "image/png": "[encoded data removed]",
      "text/plain": [
       "<Figure size 432x288 with 1 Axes>"
      ]
     },
     "metadata": {
      "needs_background": "light"
     },
     "output_type": "display_data"
    }
   ],
   "source": [
    "from imblearn.over_sampling import SMOTE\n",
    "\n",
    "X, y = prep_data(df) # preparing the data\n",
    "\n",
    "method = SMOTE(kind = 'regular') # invoking the resampling method\n",
    "\n",
    "X_resampled, y_resampled = method.fit_sample(X,y) # creating the resampled feature set\n",
    "\n",
    "plot_data(X_resampled, y_resampled)"
   ]
  },
  {
   "cell_type": "code",
   "execution_count": 8,
   "metadata": {
    "slideshow": {
     "slide_type": "subslide"
    }
   },
   "outputs": [],
   "source": [
    "def compare_plot(X,y,X_resampled,y_resampled, method):\n",
    "    # Start a plot figure\n",
    "    f, (ax1, ax2) = plt.subplots(1, 2)\n",
    "    \n",
    "    # sub-plot number 1, this is our normal data\n",
    "    c0 = ax1.scatter(X[y == 0, 0], X[y == 0, 1], label=\"Class #0\",alpha=0.5)\n",
    "    c1 = ax1.scatter(X[y == 1, 0], X[y == 1, 1], label=\"Class #1\",alpha=0.5, c='r')\n",
    "    ax1.set_title('Original set')\n",
    "    \n",
    "    # sub-plot number 2, this is our oversampled data\n",
    "    ax2.scatter(X_resampled[y_resampled == 0, 0], X_resampled[y_resampled == 0, 1], label=\"Class #0\", alpha=.5)\n",
    "    ax2.scatter(X_resampled[y_resampled == 1, 0], X_resampled[y_resampled == 1, 1], label=\"Class #1\", alpha=.5,c='r')\n",
    "    ax2.set_title(method)\n",
    "    \n",
    "    # some settings and ready to go\n",
    "    plt.figlegend((c0, c1), ('Class #0', 'Class #1'), loc='lower center',\n",
    "                  ncol=2, labelspacing=0.)\n",
    "    plt.tight_layout(pad=3)\n",
    "    return plt.show()"
   ]
  },
  {
   "cell_type": "code",
   "execution_count": 9,
   "metadata": {
    "slideshow": {
     "slide_type": "subslide"
    }
   },
   "outputs": [
    {
     "name": "stdout",
     "output_type": "stream",
     "text": [
      "0.0    0.998273\n",
      "1.0    0.001727\n",
      "dtype: float64\n",
      "1.0    0.5\n",
      "0.0    0.5\n",
      "dtype: float64\n"
     ]
    },
    {
     "data": {
      "image/png": "[encoded data removed]",
      "text/plain": [
       "<Figure size 432x288 with 2 Axes>"
      ]
     },
     "metadata": {
      "needs_background": "light"
     },
     "output_type": "display_data"
    }
   ],
   "source": [
    "# Print the value_counts on the original labels y\n",
    "print(pd.Series(y).value_counts(normalize = True))\n",
    "\n",
    "# Print the value_counts after SMOTE\n",
    "print(pd.Series(y_resampled).value_counts(normalize = True))\n",
    "\n",
    "# Run compare_plot\n",
    "compare_plot(X, y, X_resampled, y_resampled, method='SMOTE')"
   ]
  },
  {
   "cell_type": "markdown",
   "metadata": {
    "slideshow": {
     "slide_type": "slide"
    }
   },
   "source": [
    "<center><h1 style=\"color:green;\">Model Building</h1></center> \n",
    "<center><h5 style=\"color:blue;\">import libraries</h5></center>     \n",
    "    \n",
    "`from sklearn.model_selection import train_test_split\n",
    "from sklearn.metrics import classification_report,confusion_matrix\n",
    "from sklearn.tree import DecisionTreeClassifier\n",
    "from imblearn.pipeline import Pipeline \n",
    "from imblearn.over_sampling import BorderlineSMOTE`"
   ]
  },
  {
   "cell_type": "code",
   "execution_count": 10,
   "metadata": {
    "slideshow": {
     "slide_type": "skip"
    }
   },
   "outputs": [],
   "source": [
    "from sklearn.model_selection import train_test_split\n",
    "from sklearn.metrics import classification_report,confusion_matrix\n",
    "from sklearn.tree import DecisionTreeClassifier\n",
    "from imblearn.pipeline import Pipeline \n",
    "from imblearn.over_sampling import SMOTE, BorderlineSMOTE"
   ]
  },
  {
   "cell_type": "code",
   "execution_count": 11,
   "metadata": {
    "slideshow": {
     "slide_type": "subslide"
    }
   },
   "outputs": [
    {
     "name": "stdout",
     "output_type": "stream",
     "text": [
      "Classification report:\n",
      "               precision    recall  f1-score   support\n",
      "\n",
      "         0.0       1.00      1.00      1.00     56864\n",
      "         1.0       0.81      0.82      0.81        98\n",
      "\n",
      "   micro avg       1.00      1.00      1.00     56962\n",
      "   macro avg       0.90      0.91      0.91     56962\n",
      "weighted avg       1.00      1.00      1.00     56962\n",
      "\n",
      "Confusion matrix:\n",
      " [[56845    19]\n",
      " [   18    80]]\n"
     ]
    }
   ],
   "source": [
    "X_train, X_test, y_train, y_test = train_test_split(X, y, test_size=.2, random_state=42,stratify=y)\n",
    "\n",
    "model = DecisionTreeClassifier(criterion='entropy', max_depth=3)\n",
    "model.fit(X_train, y_train)\n",
    "\n",
    "# Obtain model predictions\n",
    "predicted = model.predict(X_test)\n",
    "\n",
    "# Print the classifcation report and confusion matrix\n",
    "print('Classification report:\\n', classification_report(y_test, predicted))\n",
    "conf_mat = confusion_matrix(y_true=y_test, y_pred=predicted)\n",
    "print('Confusion matrix:\\n', conf_mat)\n"
   ]
  },
  {
   "cell_type": "code",
   "execution_count": 12,
   "metadata": {
    "slideshow": {
     "slide_type": "subslide"
    }
   },
   "outputs": [
    {
     "name": "stdout",
     "output_type": "stream",
     "text": [
      "Classifcation report:\n",
      "               precision    recall  f1-score   support\n",
      "\n",
      "         0.0       1.00      1.00      1.00     56864\n",
      "         1.0       0.45      0.82      0.58        98\n",
      "\n",
      "   micro avg       1.00      1.00      1.00     56962\n",
      "   macro avg       0.72      0.91      0.79     56962\n",
      "weighted avg       1.00      1.00      1.00     56962\n",
      "\n",
      "Confusion matrix:\n",
      " [[56765    99]\n",
      " [   18    80]]\n"
     ]
    }
   ],
   "source": [
    "# Define which resampling method and which ML model to use in the pipeline\n",
    "resampling = SMOTE() # instead SMOTE(kind='borderline2')90\n",
    "resample_model = DecisionTreeClassifier(criterion='entropy')\n",
    "\n",
    "# Define the pipeline, tell it to combine SMOTE with the Logistic Regression model\n",
    "pipeline = Pipeline([('SMOTE', resampling), ('ID3', resample_model)])\n",
    "X_train, X_test, y_train, y_test = train_test_split(X,y, test_size=.2, random_state=42,stratify=y)\n",
    "\n",
    "# Fit your pipeline onto your training set and obtain predictions by fitting the model onto the test data \n",
    "pipeline.fit(X_train, y_train) \n",
    "predicted = pipeline.predict(X_test)\n",
    "\n",
    "# Obtain the results from the classification report and confusion matrix \n",
    "print('Classifcation report:\\n', classification_report(y_test, predicted))\n",
    "conf_mat = confusion_matrix(y_true=y_test, y_pred=predicted)\n",
    "print('Confusion matrix:\\n', conf_mat)"
   ]
  },
  {
   "cell_type": "code",
   "execution_count": 14,
   "metadata": {
    "slideshow": {
     "slide_type": "subslide"
    }
   },
   "outputs": [],
   "source": [
    "from pydotplus import graph_from_dot_data\n",
    "from sklearn.tree import export_graphviz\n",
    "\n",
    "dot_data = export_graphviz(model,\n",
    "                           filled=True, \n",
    "                           rounded=True,\n",
    "                           class_names=['fraud','non-fraud'],\n",
    "                           out_file=None) \n",
    "graph = graph_from_dot_data(dot_data) \n",
    "graph.write_png('images/tree.png')"
   ]
  },
  {
   "cell_type": "markdown",
   "metadata": {
    "slideshow": {
     "slide_type": "subslide"
    }
   },
   "source": [
    "<center><h1 style=\"color:green;\">Tree Build by ID3 Algorithm</h1></center> \n",
    "<center><img src=\"images/tree.png\" alt=\"Tree\" style=\"width: 600px;\"/></center>"
   ]
  },
  {
   "cell_type": "markdown",
   "metadata": {
    "slideshow": {
     "slide_type": "subslide"
    }
   },
   "source": [
    "<center><h1 style=\"color:green;\">Pros of a Decision Tree</h1></center> \n",
    "\n",
    "* Doesn't require much of statistical Knowledege\n",
    "* `Non-Parametric Method` - Doesn't make any assumptions on the data distributions and no constarint on the data\n",
    "* `White Box Model` and Easy to understand(can be read as bunch of `IF - Else` Statements)\n",
    "* Quick to Build and Deploy the Model\n",
    "* Works with relatively less data\n",
    "* Not affected by outliers** and  Missing values**\n",
    "* It can handle both Catergorical and Numerical data types\n",
    "\n",
    "<center><h1 style=\"color:red;\">Cons of a Decision Tree</h1></center> \n",
    "\n",
    "* Leads tp overfitting (can be controlled by tuning approriate hyper parameters like *max_depth*, *min_child_nodes* etc..)\n",
    "* Highly unstable \n",
    "* Can create a biased tree\n"
   ]
  },
  {
   "cell_type": "markdown",
   "metadata": {
    "slideshow": {
     "slide_type": "slide"
    }
   },
   "source": [
    "<center><h1 style=\"color:darkblue;\">Tuning Hyperparameters</h1></center>\n",
    "\n",
    "* Each algorithms has it's own bunch of hyperparamenters which need to be manually set before training the model.\n",
    "* Searching manually for the right combination is a teadious and time consuming process.\n",
    "* Below is the list of hyperparameter tunning solutions and each has it's own pros and cons\n",
    "    1. Grid Search\n",
    "    2. Random Search \n",
    "    3. Bayseian Optimization"
   ]
  },
  {
   "cell_type": "code",
   "execution_count": 15,
   "metadata": {
    "slideshow": {
     "slide_type": "skip"
    }
   },
   "outputs": [],
   "source": [
    "def get_model_results(X_train, y_train, X_test, y_test, model):\n",
    "    model.fit(X_train, y_train)\n",
    "    predicted = model.predict(X_test)\n",
    "    print (classification_report(y_test, predicted))\n",
    "    print (confusion_matrix(y_test, predicted))"
   ]
  },
  {
   "cell_type": "code",
   "execution_count": 16,
   "metadata": {
    "slideshow": {
     "slide_type": "subslide"
    }
   },
   "outputs": [
    {
     "name": "stdout",
     "output_type": "stream",
     "text": [
      "Best Hyper parameter are {'criterion': 'entropy', 'max_depth': 3}\n",
      "              precision    recall  f1-score   support\n",
      "\n",
      "         0.0       1.00      1.00      1.00     56864\n",
      "         1.0       0.75      0.74      0.75        98\n",
      "\n",
      "   micro avg       1.00      1.00      1.00     56962\n",
      "   macro avg       0.88      0.87      0.87     56962\n",
      "weighted avg       1.00      1.00      1.00     56962\n",
      "\n",
      "[[56840    24]\n",
      " [   25    73]]\n"
     ]
    }
   ],
   "source": [
    "from sklearn.model_selection import GridSearchCV\n",
    "param_grid = { \n",
    "    'max_depth': range(1,5), \n",
    "    'criterion': ['gini', 'entropy']\n",
    "}\n",
    "model = DecisionTreeClassifier(random_state=5)\n",
    "CV_model = GridSearchCV(estimator=model, param_grid=param_grid, cv=5, scoring='recall', n_jobs=-1)\n",
    "CV_model.fit(X_train, y_train)\n",
    "print(\"Best Hyper parameter are {}\".format(CV_model.best_params_))\n",
    "get_model_results(X_train, y_train, X_test, y_test, model)"
   ]
  },
  {
   "cell_type": "markdown",
   "metadata": {
    "slideshow": {
     "slide_type": "slide"
    }
   },
   "source": [
    "<center><h1 style=\"color:Green;\">Random Forest</h1></center>\n",
    "<center><img src=\"images/rf.png\" alt=\"Tree\" style=\"width: 600px;\"/></center>"
   ]
  },
  {
   "cell_type": "markdown",
   "metadata": {
    "slideshow": {
     "slide_type": "subslide"
    }
   },
   "source": [
    "<h3>Random Forest overcomes the weakness of Decission tree by following wisdom of crowd principle</h3>\n",
    "\n",
    " - In an ensemble, predictions could be combined either by majority-voting or by taking averages.\n",
    " \n",
    " - Instead of making decision by a single tree it builds a bunch of *uncorrelated trees* and takes a combined decision helps in reduction of model variance.\n",
    " \n",
    " - RF builds different tress by randomly selecting rows and columns on principle called `Bagging`.\n",
    " \n"
   ]
  },
  {
   "cell_type": "markdown",
   "metadata": {
    "slideshow": {
     "slide_type": "subslide"
    }
   },
   "source": [
    "- Below is an illustration of how an ensemble formed by majority-voting yields more accurate predictions than the individual models it is based on:\n",
    "<center><img src=\"images/ensemble.gif\" alt=\"voting\" style=\"width: 600px;\"/></center>"
   ]
  },
  {
   "cell_type": "markdown",
   "metadata": {
    "slideshow": {
     "slide_type": "subslide"
    }
   },
   "source": [
    "<h3>How does RandomForest build uncorrelated trees?</h3>\n",
    "\n",
    "* i.   Randomly select *k* features from total *m* features where *k* << *m*.\n",
    "\n",
    "* ii.  Randomly select *p* records from total *q* records where *p* < *q*.\n",
    "\n",
    "* iii. Build a decison tree with the selected *k* features and *q* records.\n",
    "\n",
    "* iv.  Repeat i to iii. till sufficiently large trees are grown with replacement.\n",
    "\n",
    "* v.   Create and ensemble of all the decesion trees."
   ]
  },
  {
   "cell_type": "markdown",
   "metadata": {
    "slideshow": {
     "slide_type": "subslide"
    }
   },
   "source": [
    "<center style=\"color:orange;\"><h3>Random Forest with *RandomizedSearchCV*</h3></center>\n",
    "<center><img src=\"images/cv.png\" alt=\"Tree\" style=\"width: 600px;\"/></center>"
   ]
  },
  {
   "cell_type": "code",
   "execution_count": 17,
   "metadata": {
    "slideshow": {
     "slide_type": "subslide"
    }
   },
   "outputs": [
    {
     "data": {
      "text/plain": [
       "{'n_estimators': 1,\n",
       " 'max_features': 'log2',\n",
       " 'max_depth': 2,\n",
       " 'criterion': 'entropy'}"
      ]
     },
     "execution_count": 17,
     "metadata": {},
     "output_type": "execute_result"
    }
   ],
   "source": [
    "from sklearn.model_selection import RandomizedSearchCV\n",
    "from sklearn.ensemble import RandomForestClassifier\n",
    "param_grid = {\n",
    "    'n_estimators': range(1,10), \n",
    "    'max_features': ['auto', 'log2'],  \n",
    "    'max_depth': range(2,5), \n",
    "    'criterion': ['gini', 'entropy']\n",
    "}\n",
    "model = RandomForestClassifier(random_state=42)\n",
    "CV_model = RandomizedSearchCV(model, param_grid, cv=5, scoring='recall', n_jobs=-1)\n",
    "CV_model.fit(X_train, y_train)\n",
    "y_pred = CV_model.predict(X_test)\n",
    "CV_model.best_params_"
   ]
  },
  {
   "cell_type": "code",
   "execution_count": 18,
   "metadata": {
    "slideshow": {
     "slide_type": "subslide"
    }
   },
   "outputs": [
    {
     "name": "stdout",
     "output_type": "stream",
     "text": [
      "Classifcation report:\n",
      "               precision    recall  f1-score   support\n",
      "\n",
      "         0.0       1.00      1.00      1.00     56864\n",
      "         1.0       0.79      0.81      0.80        98\n",
      "\n",
      "   micro avg       1.00      1.00      1.00     56962\n",
      "   macro avg       0.89      0.90      0.90     56962\n",
      "weighted avg       1.00      1.00      1.00     56962\n",
      "\n",
      "Confusion matrix:\n",
      " [[56843    21]\n",
      " [   19    79]]\n"
     ]
    }
   ],
   "source": [
    "print('Classifcation report:\\n', classification_report(y_test, y_pred))\n",
    "conf_mat = confusion_matrix(y_true=y_test, y_pred=y_pred)\n",
    "print('Confusion matrix:\\n', conf_mat)"
   ]
  },
  {
   "cell_type": "code",
   "execution_count": 19,
   "metadata": {
    "slideshow": {
     "slide_type": "subslide"
    }
   },
   "outputs": [
    {
     "data": {
      "text/plain": [
       "<matplotlib.axes._subplots.AxesSubplot at 0x11937b668>"
      ]
     },
     "execution_count": 19,
     "metadata": {},
     "output_type": "execute_result"
    },
    {
     "data": {
      "image/png": "[encoded data removed]",
      "text/plain": [
       "<Figure size 432x288 with 1 Axes>"
      ]
     },
     "metadata": {
      "needs_background": "light"
     },
     "output_type": "display_data"
    }
   ],
   "source": [
    "# Variable Importance from Random Forest\n",
    "importances = CV_model.best_estimator_.feature_importances_\n",
    "pd.Series(importances,index=df.columns[1:29]).sort_values(ascending = False).plot(kind='bar')"
   ]
  },
  {
   "cell_type": "code",
   "execution_count": null,
   "metadata": {},
   "outputs": [],
   "source": []
  },
  {
   "cell_type": "code",
   "execution_count": null,
   "metadata": {},
   "outputs": [],
   "source": []
  }
 ],
 "metadata": {
  "kernelspec": {
   "display_name": "Python 3",
   "language": "python",
   "name": "python3"
  },
  "language_info": {
   "codemirror_mode": {
    "name": "ipython",
    "version": 3
   },
   "file_extension": ".py",
   "mimetype": "text/x-python",
   "name": "python",
   "nbconvert_exporter": "python",
   "pygments_lexer": "ipython3",
   "version": "3.6.8"
  }
 },
 "nbformat": 4,
 "nbformat_minor": 2
}
